{
 "cells": [
  {
   "cell_type": "markdown",
   "id": "8924fe77",
   "metadata": {},
   "source": [
    "## This script finds the mean distance from a resident of an informal or atomistic area to the nearest public transit stop.\n",
    "\n",
    "### Method:\n",
    "\n",
    "1. Reclass ULU: [2, 3] --> [1, 1], and 0 otherwise. This gives 1 for informal/atomistic. Call this **informal**.\n",
    "1. Multiply WorldPop raster by **informal**. This gives popsize only in informal pixels, zero otherwise. Call this **informal_pop**.\n",
    "1. Use Overpass API to retrieve OSM transit-stop points within city bounding box.\n",
    "1. Create distance raster giving distance within 20000m of OSM transit stop features. Call this **transit_distance**.\n",
    "1. Multiply **informal_pop** by **transit_distance**. Call this **informal_persondistancetotransit**.\n",
    "1. Sum over **informal_pop** to get total number of residents of informal/atomistic. Call this **total_informal_pop**.\n",
    "1. Return **informal_persondistancetotransit** / **total_informal_pop**. This is the average distance from an informal/atomistic dwelling to nearest transit stop.\n",
    "\n",
    "\n",
    "### To do:\n",
    "* Return *nodata* if city not covered by ULU dataset"
   ]
  },
  {
   "cell_type": "code",
   "execution_count": 2,
   "id": "9f8bea49",
   "metadata": {},
   "outputs": [
    {
     "data": {
      "text/html": [
       "<p>To authorize access needed by Earth Engine, open the following\n",
       "        URL in a web browser and follow the instructions:</p>\n",
       "        <p><a href=https://code.earthengine.google.com/client-auth?scopes=https%3A//www.googleapis.com/auth/earthengine%20https%3A//www.googleapis.com/auth/devstorage.full_control&request_id=qLv_VXoGuOps6l3LrgPClJvhoGrj0-37j5D1N7e1BuM&tc=G6gnnuJeBohDB-sxZs-z7YdvfP6aEf_Iu0idelwak8A&cc=9euAXRRyGpUALjPf2AK5Qnl9lkuOO_Ot0N5IRe6SAAY>https://code.earthengine.google.com/client-auth?scopes=https%3A//www.googleapis.com/auth/earthengine%20https%3A//www.googleapis.com/auth/devstorage.full_control&request_id=qLv_VXoGuOps6l3LrgPClJvhoGrj0-37j5D1N7e1BuM&tc=G6gnnuJeBohDB-sxZs-z7YdvfP6aEf_Iu0idelwak8A&cc=9euAXRRyGpUALjPf2AK5Qnl9lkuOO_Ot0N5IRe6SAAY</a></p>\n",
       "        <p>The authorization workflow will generate a code, which you\n",
       "        should paste in the box below</p>\n",
       "        "
      ],
      "text/plain": [
       "<IPython.core.display.HTML object>"
      ]
     },
     "metadata": {},
     "output_type": "display_data"
    },
    {
     "name": "stdout",
     "output_type": "stream",
     "text": [
      "Enter verification code: 4/1AbUR2VN1lKJ_dIpa2D5teKwzUj-AW-3QoMGa5I__BrSWtupZAxxYagdXGr4\n",
      "\n",
      "Successfully saved authorization token.\n"
     ]
    }
   ],
   "source": [
    "import os\n",
    "import overpy\n",
    "import pandas as pd\n",
    "import geemap\n",
    "import ee\n",
    "ee.Authenticate()"
   ]
  },
  {
   "cell_type": "code",
   "execution_count": 3,
   "id": "692b50cb",
   "metadata": {},
   "outputs": [],
   "source": [
    "ee.Initialize()"
   ]
  },
  {
   "cell_type": "code",
   "execution_count": 6,
   "id": "34ed4118",
   "metadata": {},
   "outputs": [],
   "source": [
    "# define directory\n",
    "out_dir = os.getcwd()\n",
    "bucket_name = 'cities-indicators'\n",
    "aws_s3_dir = \"https://\"+bucket_name+\".s3.eu-west-3.amazonaws.com\""
   ]
  },
  {
   "cell_type": "code",
   "execution_count": 88,
   "id": "30430c21",
   "metadata": {},
   "outputs": [],
   "source": [
    "POP_YEAR = 2020"
   ]
  },
  {
   "cell_type": "code",
   "execution_count": 7,
   "id": "856de885",
   "metadata": {},
   "outputs": [
    {
     "data": {
      "text/html": [
       "<div>\n",
       "<style scoped>\n",
       "    .dataframe tbody tr th:only-of-type {\n",
       "        vertical-align: middle;\n",
       "    }\n",
       "\n",
       "    .dataframe tbody tr th {\n",
       "        vertical-align: top;\n",
       "    }\n",
       "\n",
       "    .dataframe thead th {\n",
       "        text-align: right;\n",
       "    }\n",
       "</style>\n",
       "<table border=\"1\" class=\"dataframe\">\n",
       "  <thead>\n",
       "    <tr style=\"text-align: right;\">\n",
       "      <th></th>\n",
       "      <th>city_name</th>\n",
       "      <th>geo_name</th>\n",
       "      <th>aoi_boundary_name</th>\n",
       "      <th>units_boundary_name</th>\n",
       "      <th>city_boundary_name</th>\n",
       "      <th>country_code</th>\n",
       "      <th>geo_level</th>\n",
       "    </tr>\n",
       "  </thead>\n",
       "  <tbody>\n",
       "    <tr>\n",
       "      <th>0</th>\n",
       "      <td>Salvador</td>\n",
       "      <td>BRA-Salvador</td>\n",
       "      <td>ADM4union</td>\n",
       "      <td>ADM4</td>\n",
       "      <td>BRA-Salvador-ADM4</td>\n",
       "      <td>BRA</td>\n",
       "      <td>ADM4</td>\n",
       "    </tr>\n",
       "    <tr>\n",
       "      <th>1</th>\n",
       "      <td>Bukavu</td>\n",
       "      <td>COD-Bukavu</td>\n",
       "      <td>ADM3union</td>\n",
       "      <td>ADM3</td>\n",
       "      <td>COD-Bukavu-ADM3</td>\n",
       "      <td>COD</td>\n",
       "      <td>ADM3</td>\n",
       "    </tr>\n",
       "    <tr>\n",
       "      <th>2</th>\n",
       "      <td>Uvira</td>\n",
       "      <td>COD-Uvira</td>\n",
       "      <td>ADM3union</td>\n",
       "      <td>ADM3</td>\n",
       "      <td>COD-Uvira-ADM3</td>\n",
       "      <td>COD</td>\n",
       "      <td>ADM3</td>\n",
       "    </tr>\n",
       "    <tr>\n",
       "      <th>3</th>\n",
       "      <td>Brazzaville</td>\n",
       "      <td>COG-Brazzaville</td>\n",
       "      <td>ADM4union</td>\n",
       "      <td>ADM4</td>\n",
       "      <td>COG-Brazzaville-ADM4</td>\n",
       "      <td>COG</td>\n",
       "      <td>ADM4</td>\n",
       "    </tr>\n",
       "    <tr>\n",
       "      <th>4</th>\n",
       "      <td>Barranquilla</td>\n",
       "      <td>COL-Barranquilla</td>\n",
       "      <td>ADM4union</td>\n",
       "      <td>ADM4</td>\n",
       "      <td>COL-Barranquilla-ADM4</td>\n",
       "      <td>COL</td>\n",
       "      <td>ADM4</td>\n",
       "    </tr>\n",
       "    <tr>\n",
       "      <th>5</th>\n",
       "      <td>Addis_Ababa</td>\n",
       "      <td>ETH-Addis_Ababa</td>\n",
       "      <td>ADM4union</td>\n",
       "      <td>ADM4</td>\n",
       "      <td>ETH-Addis_Ababa-ADM4</td>\n",
       "      <td>ETH</td>\n",
       "      <td>ADM4</td>\n",
       "    </tr>\n",
       "    <tr>\n",
       "      <th>6</th>\n",
       "      <td>Dire_Dawa</td>\n",
       "      <td>ETH-Dire_Dawa</td>\n",
       "      <td>ADM3union</td>\n",
       "      <td>ADM3</td>\n",
       "      <td>ETH-Dire_Dawa-ADM3</td>\n",
       "      <td>ETH</td>\n",
       "      <td>ADM3</td>\n",
       "    </tr>\n",
       "    <tr>\n",
       "      <th>7</th>\n",
       "      <td>Nairobi</td>\n",
       "      <td>KEN-Nairobi</td>\n",
       "      <td>ADM3union</td>\n",
       "      <td>ADM3</td>\n",
       "      <td>KEN-Nairobi-ADM3</td>\n",
       "      <td>KEN</td>\n",
       "      <td>ADM3</td>\n",
       "    </tr>\n",
       "    <tr>\n",
       "      <th>8</th>\n",
       "      <td>Antananarivo</td>\n",
       "      <td>MDG-Antananarivo</td>\n",
       "      <td>ADM4union</td>\n",
       "      <td>ADM4</td>\n",
       "      <td>MDG-Antananarivo-ADM4</td>\n",
       "      <td>MDG</td>\n",
       "      <td>ADM4</td>\n",
       "    </tr>\n",
       "    <tr>\n",
       "      <th>9</th>\n",
       "      <td>Mexico_City</td>\n",
       "      <td>MEX-Mexico_City</td>\n",
       "      <td>ADM2union</td>\n",
       "      <td>ADM2</td>\n",
       "      <td>MEX-Mexico_City-ADM2</td>\n",
       "      <td>MEX</td>\n",
       "      <td>ADM2</td>\n",
       "    </tr>\n",
       "    <tr>\n",
       "      <th>10</th>\n",
       "      <td>Monterrey</td>\n",
       "      <td>MEX-Monterrey</td>\n",
       "      <td>ADM2union</td>\n",
       "      <td>ADM2</td>\n",
       "      <td>MEX-Monterrey-ADM2</td>\n",
       "      <td>MEX</td>\n",
       "      <td>ADM2</td>\n",
       "    </tr>\n",
       "    <tr>\n",
       "      <th>11</th>\n",
       "      <td>Musanze</td>\n",
       "      <td>RWA-Musanze</td>\n",
       "      <td>ADM5union</td>\n",
       "      <td>ADM5</td>\n",
       "      <td>RWA-Musanze-ADM5</td>\n",
       "      <td>RWA</td>\n",
       "      <td>ADM5</td>\n",
       "    </tr>\n",
       "  </tbody>\n",
       "</table>\n",
       "</div>"
      ],
      "text/plain": [
       "       city_name          geo_name aoi_boundary_name units_boundary_name  \\\n",
       "0       Salvador      BRA-Salvador         ADM4union                ADM4   \n",
       "1         Bukavu        COD-Bukavu         ADM3union                ADM3   \n",
       "2          Uvira         COD-Uvira         ADM3union                ADM3   \n",
       "3    Brazzaville   COG-Brazzaville         ADM4union                ADM4   \n",
       "4   Barranquilla  COL-Barranquilla         ADM4union                ADM4   \n",
       "5    Addis_Ababa   ETH-Addis_Ababa         ADM4union                ADM4   \n",
       "6      Dire_Dawa     ETH-Dire_Dawa         ADM3union                ADM3   \n",
       "7        Nairobi       KEN-Nairobi         ADM3union                ADM3   \n",
       "8   Antananarivo  MDG-Antananarivo         ADM4union                ADM4   \n",
       "9    Mexico_City   MEX-Mexico_City         ADM2union                ADM2   \n",
       "10     Monterrey     MEX-Monterrey         ADM2union                ADM2   \n",
       "11       Musanze       RWA-Musanze         ADM5union                ADM5   \n",
       "\n",
       "       city_boundary_name country_code geo_level  \n",
       "0       BRA-Salvador-ADM4          BRA      ADM4  \n",
       "1         COD-Bukavu-ADM3          COD      ADM3  \n",
       "2          COD-Uvira-ADM3          COD      ADM3  \n",
       "3    COG-Brazzaville-ADM4          COG      ADM4  \n",
       "4   COL-Barranquilla-ADM4          COL      ADM4  \n",
       "5    ETH-Addis_Ababa-ADM4          ETH      ADM4  \n",
       "6      ETH-Dire_Dawa-ADM3          ETH      ADM3  \n",
       "7        KEN-Nairobi-ADM3          KEN      ADM3  \n",
       "8   MDG-Antananarivo-ADM4          MDG      ADM4  \n",
       "9    MEX-Mexico_City-ADM2          MEX      ADM2  \n",
       "10     MEX-Monterrey-ADM2          MEX      ADM2  \n",
       "11       RWA-Musanze-ADM5          RWA      ADM5  "
      ]
     },
     "execution_count": 7,
     "metadata": {},
     "output_type": "execute_result"
    }
   ],
   "source": [
    "# get list of c4f cities\n",
    "boundary_georef = pd.read_csv('https://cities-cities4forests.s3.eu-west-3.amazonaws.com/data/boundaries/v_0/boundary_georef.csv')\n",
    "boundary_georef"
   ]
  },
  {
   "cell_type": "code",
   "execution_count": 50,
   "id": "57d9de9d",
   "metadata": {},
   "outputs": [],
   "source": [
    "def get_bbox(ee_obj):\n",
    "    ee_geom = ee_obj.geometry()\n",
    "    coords = ee_geom.bounds().getInfo()['coordinates'][0]\n",
    "    left = coords[0][0]\n",
    "    bottom = coords[0][1]\n",
    "    right = coords[1][0]\n",
    "    top = coords[2][1]\n",
    "    return (bottom, left, top, right)"
   ]
  },
  {
   "cell_type": "code",
   "execution_count": 86,
   "id": "6d37f277",
   "metadata": {},
   "outputs": [],
   "source": [
    "# Get ULU polygons\n",
    "\n",
    "ULU200 = ee.ImageCollection('projects/wri-datalab/urban_land_use/V1')\n",
    "ULU4000 = ee.ImageCollection('projects/wri-datalab/cities/urban_land_use/V1')\n",
    "ULUv2 = ee.ImageCollection('projects/wri-datalab/urban_land_use/V2')\n",
    "ULU = ULU200.merge(ULU4000).merge(ULUv2)\n",
    "ULU = ULU.select('lulc').reduce(ee.Reducer.firstNonNull()).rename('lulc') #//.clip(cityArea)//.updateMask(ULUMexico)\n",
    "informal = ULU.mask(ULU.mask().gt(0)).remap([2, 3], [1, 1], 0)"
   ]
  },
  {
   "cell_type": "code",
   "execution_count": 89,
   "id": "b92e5280",
   "metadata": {},
   "outputs": [],
   "source": [
    "# Get WorldPop data\n",
    "\n",
    "pop = ee.ImageCollection('WorldPop/GP/100m/pop').filter(ee.Filter.equals('year', POP_YEAR))"
   ]
  },
  {
   "cell_type": "code",
   "execution_count": 102,
   "id": "ffabaeba",
   "metadata": {},
   "outputs": [],
   "source": [
    "def do_one_row(i):\n",
    "    \n",
    "    boundary_id_aoi = '{0}-{1}'.format(boundary_georef.loc[i, 'geo_name'], boundary_georef.loc[i, 'aoi_boundary_name'])\n",
    "    boundary_path = '{0}/data/boundaries/boundary-{1}.geojson'.format(aws_s3_dir, boundary_id_aoi)\n",
    "    boundary_geo = requests.get(boundary_path).json()\n",
    "    boundary_geo_ee = geemap.geojson_to_ee(boundary_geo)\n",
    "    bbox = get_bbox(boundary_geo_ee)\n",
    "    \n",
    "    country_code = boundary_georef.loc[i, 'country_code']\n",
    "\n",
    "    # Get transit points\n",
    "    \n",
    "    query = '('\n",
    "    query += 'node[public_transport=platform]{0};'.format(str(bbox))\n",
    "    query += 'node[highway=bus_stop]{0};'.format(str(bbox))\n",
    "    query += 'node[highway=platform]{0};'.format(str(bbox))\n",
    "    query += 'node[public_transport=stop_position]{0};'.format(str(bbox))\n",
    "    query += 'node[railway=stop]{0};'.format(str(bbox))\n",
    "    query += 'node[railway=platform]{0};'.format(str(bbox))\n",
    "    query += 'node[station=subway]{0};'.format(str(bbox))\n",
    "    query += 'node[railway=halt]{0};'.format(str(bbox))\n",
    "    query += 'node[railway=tram_stop]{0};'.format(str(bbox))\n",
    "    query += 'node[amenity=ferry_terminal]{0};'.format(str(bbox))\n",
    "    query += 'node[aerialway=station]{0};'.format(str(bbox))\n",
    "    query += 'node[amenity=ferry_terminal]{0};'.format(str(bbox))\n",
    "    query += 'node[amenity=ferry_terminal]{0};'.format(str(bbox))\n",
    "    query += ');out;'\n",
    "    \n",
    "    api = overpy.Overpass()\n",
    "    result = api.query(query)\n",
    "    transit_features = [ee.Feature(ee.Geometry({\"type\": \"Point\", \"coordinates\": [float(i.lon), float(i.lat)]})) for i in result.nodes]\n",
    "    transit_featurecollection = ee.FeatureCollection(transit_features)\n",
    "    \n",
    "    transit_distance = transit_featurecollection.distance(20000, 10)\n",
    "    \n",
    "    localpop = pop.filter(ee.Filter.equals('country', country_code)).select('population').first().clip(boundary_geo_ee)\n",
    "    informal_pop = localpop.multiply(informal)\n",
    "    \n",
    "    informal_persondistancetotransit = (informal_pop.multiply(transit_distance)).reduceRegion(reducer= ee.Reducer.sum(), geometry= boundary_geo_ee.geometry()).getInfo()['population']\n",
    "    total_informal_pop = informal_pop.reduceRegion(reducer= ee.Reducer.sum(), geometry= boundary_geo_ee.geometry()).getInfo()['population']\n",
    "    \n",
    "    if total_informal_pop > 0:\n",
    "        return informal_persondistancetotransit / total_informal_pop\n",
    "    else:\n",
    "        return -9999"
   ]
  },
  {
   "cell_type": "code",
   "execution_count": null,
   "id": "4b8cb632",
   "metadata": {},
   "outputs": [],
   "source": []
  },
  {
   "cell_type": "code",
   "execution_count": 103,
   "id": "1d973b21",
   "metadata": {},
   "outputs": [
    {
     "data": {
      "text/plain": [
       "3952.5528408248188"
      ]
     },
     "execution_count": 103,
     "metadata": {},
     "output_type": "execute_result"
    }
   ],
   "source": [
    "do_one_row(10)"
   ]
  },
  {
   "cell_type": "code",
   "execution_count": null,
   "id": "70b92c92",
   "metadata": {},
   "outputs": [],
   "source": []
  }
 ],
 "metadata": {
  "kernelspec": {
   "display_name": "Python 3 (ipykernel)",
   "language": "python",
   "name": "python3"
  },
  "language_info": {
   "codemirror_mode": {
    "name": "ipython",
    "version": 3
   },
   "file_extension": ".py",
   "mimetype": "text/x-python",
   "name": "python",
   "nbconvert_exporter": "python",
   "pygments_lexer": "ipython3",
   "version": "3.9.10"
  }
 },
 "nbformat": 4,
 "nbformat_minor": 5
}
